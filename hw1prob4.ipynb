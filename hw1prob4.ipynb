{
  "nbformat": 4,
  "nbformat_minor": 0,
  "metadata": {
    "colab": {
      "name": "hw1prob4.ipynb",
      "provenance": [],
      "collapsed_sections": []
    },
    "kernelspec": {
      "name": "python3",
      "display_name": "Python 3"
    },
    "accelerator": "GPU"
  },
  "cells": [
    {
      "cell_type": "markdown",
      "metadata": {
        "id": "NQ727lB7Bd-Q"
      },
      "source": [
        "OK, thus far we have been talking about linear models. All these can be viewed as a single-layer neural net. The next step is to move on to multi-layer nets. Training these is a bit more involved, and implementing from scratch requires time and effort. Instead, we just use well-established libraries. I prefer PyTorch, which is based on an earlier library called Torch (designed for training neural nets via backprop)."
      ]
    },
    {
      "cell_type": "code",
      "metadata": {
        "id": "8zHrM6ihB1uA"
      },
      "source": [
        "import numpy as np\n",
        "import torch\n",
        "import torchvision"
      ],
      "execution_count": 1,
      "outputs": []
    },
    {
      "cell_type": "markdown",
      "metadata": {
        "id": "M5vzZmhnCBDv"
      },
      "source": [
        "Torch handles data types a bit differently. Everything in torch is a *tensor*."
      ]
    },
    {
      "cell_type": "code",
      "metadata": {
        "id": "MvAolsJ6CJJs",
        "colab": {
          "base_uri": "https://localhost:8080/"
        },
        "outputId": "aa308f50-c7f4-4711-b97d-b14e4b7277a6"
      },
      "source": [
        "a = np.random.rand(2,3)\n",
        "b = torch.from_numpy(a)\n",
        "\n",
        "# Q4.1 Display the contents of a, b\n",
        "print(a)\n",
        "print(b)\n"
      ],
      "execution_count": 2,
      "outputs": [
        {
          "output_type": "stream",
          "text": [
            "[[0.48324465 0.02705223 0.85226684]\n",
            " [0.79032628 0.58597243 0.04134577]]\n",
            "tensor([[0.4832, 0.0271, 0.8523],\n",
            "        [0.7903, 0.5860, 0.0413]], dtype=torch.float64)\n"
          ],
          "name": "stdout"
        }
      ]
    },
    {
      "cell_type": "markdown",
      "metadata": {
        "id": "cuRIMzC-CYx-"
      },
      "source": [
        "The idea in Torch is that tensors allow for easy forward (function evaluations) and backward (gradient) passes."
      ]
    },
    {
      "cell_type": "code",
      "metadata": {
        "id": "gb2LWPSACqiS",
        "colab": {
          "base_uri": "https://localhost:8080/"
        },
        "outputId": "77a462b0-2196-44ee-b177-bf65643dbdc4"
      },
      "source": [
        "A = torch.rand(2,2)\n",
        "b = torch.rand(2,1)\n",
        "x = torch.rand(2,1, requires_grad=True)\n",
        "\n",
        "y = torch.matmul(A,x) + b\n",
        "\n",
        "print(y)\n",
        "z = y.sum()\n",
        "print(z)\n",
        "z.backward()\n",
        "print(x.grad)\n",
        "print(x)"
      ],
      "execution_count": 3,
      "outputs": [
        {
          "output_type": "stream",
          "text": [
            "tensor([[0.7582],\n",
            "        [0.9961]], grad_fn=<AddBackward0>)\n",
            "tensor(1.7544, grad_fn=<SumBackward0>)\n",
            "tensor([[0.6830],\n",
            "        [1.1748]])\n",
            "tensor([[0.2865],\n",
            "        [0.7648]], requires_grad=True)\n"
          ],
          "name": "stdout"
        }
      ]
    },
    {
      "cell_type": "markdown",
      "metadata": {
        "id": "J4ptw5BlEHVL"
      },
      "source": [
        "Notice how the backward pass computed the gradients using autograd. OK, enough background. Time to train some networks. Let us load the *Fashion MNIST* dataset, which is a database of grayscale images of clothing items."
      ]
    },
    {
      "cell_type": "code",
      "metadata": {
        "id": "zSTq5wKoEPlA"
      },
      "source": [
        "trainingdata = torchvision.datasets.FashionMNIST('./FashionMNIST/',train=True,download=True,transform=torchvision.transforms.ToTensor())\n",
        "testdata = torchvision.datasets.FashionMNIST('./FashionMNIST/',train=False,download=True,transform=torchvision.transforms.ToTensor())\n"
      ],
      "execution_count": 4,
      "outputs": []
    },
    {
      "cell_type": "markdown",
      "metadata": {
        "id": "_viGcCfmMxJp"
      },
      "source": [
        "Let us examine the size of the dataset."
      ]
    },
    {
      "cell_type": "code",
      "metadata": {
        "id": "qMb0WQthE2vR",
        "colab": {
          "base_uri": "https://localhost:8080/"
        },
        "outputId": "fde30e0d-68f2-43db-ebdf-31da6710a7b8"
      },
      "source": [
        "# Q4.2 How many training and testing data points are there in the dataset? \n",
        "# What is the number of features in each data point?\n",
        "# ...\n",
        "# ...\n",
        "import numpy as np\n",
        "\n",
        "print(trainingdata.__len__)\n",
        "print(testdata.__len__)\n",
        "print(\"The number of features in each data point is %d.\" % len(list(np.ravel(trainingdata[0][0]))) )\n"
      ],
      "execution_count": 5,
      "outputs": [
        {
          "output_type": "stream",
          "text": [
            "<bound method MNIST.__len__ of Dataset FashionMNIST\n",
            "    Number of datapoints: 60000\n",
            "    Root location: ./FashionMNIST/\n",
            "    Split: Train\n",
            "    StandardTransform\n",
            "Transform: ToTensor()>\n",
            "<bound method MNIST.__len__ of Dataset FashionMNIST\n",
            "    Number of datapoints: 10000\n",
            "    Root location: ./FashionMNIST/\n",
            "    Split: Test\n",
            "    StandardTransform\n",
            "Transform: ToTensor()>\n",
            "The number of features in each data point is 784.\n"
          ],
          "name": "stdout"
        }
      ]
    },
    {
      "cell_type": "markdown",
      "metadata": {
        "id": "beaahX9xFQf2"
      },
      "source": [
        "Let us try to visualize some of the images. Since each data point is a tensor (not an array) we need to postprocess to use matplotlib."
      ]
    },
    {
      "cell_type": "code",
      "metadata": {
        "id": "iaEVjo9BFYQo",
        "colab": {
          "base_uri": "https://localhost:8080/",
          "height": 265
        },
        "outputId": "22fa077d-f16e-4f64-a0b3-0e40e6f28ad4"
      },
      "source": [
        "import matplotlib.pyplot as plt\n",
        "%matplotlib inline\n",
        "\n",
        "image, label = trainingdata[0]\n",
        "\n",
        "# Q4.3 Assuming each sample is an image of size 28x28, show it in matplotlib.\n",
        "image=image.reshape(28,28) \n",
        "plt.imshow(image)\n",
        "plt.show()"
      ],
      "execution_count": 6,
      "outputs": [
        {
          "output_type": "display_data",
          "data": {
            "image/png": "[encoded data removed]",
            "text/plain": [
              "<Figure size 432x288 with 1 Axes>"
            ]
          },
          "metadata": {
            "tags": [],
            "needs_background": "light"
          }
        }
      ]
    },
    {
      "cell_type": "markdown",
      "metadata": {
        "id": "C-Yg31snFlNa"
      },
      "source": [
        "Let's try plotting several images. This is conveniently achieved in PyTorch using a *data loader*, which loads data in batches."
      ]
    },
    {
      "cell_type": "code",
      "metadata": {
        "id": "rypRoXGKHG2a",
        "colab": {
          "base_uri": "https://localhost:8080/"
        },
        "outputId": "1e3a2b7c-064c-4659-c838-d2cfa77eb51a"
      },
      "source": [
        "trainDataLoader = torch.utils.data.DataLoader(trainingdata, batch_size=64, shuffle=True)\n",
        "testDataLoader = torch.utils.data.DataLoader(testdata, batch_size=64, shuffle=False)\n",
        "images, labels = iter(trainDataLoader).next()\n",
        "print(images.size(), labels)"
      ],
      "execution_count": 7,
      "outputs": [
        {
          "output_type": "stream",
          "text": [
            "torch.Size([64, 1, 28, 28]) tensor([2, 7, 8, 6, 6, 6, 6, 6, 6, 6, 5, 0, 4, 9, 8, 9, 8, 1, 4, 1, 3, 6, 6, 9,\n",
            "        6, 5, 8, 1, 9, 3, 3, 8, 0, 5, 8, 4, 7, 5, 6, 5, 9, 7, 5, 6, 5, 0, 0, 8,\n",
            "        0, 3, 2, 4, 5, 7, 4, 0, 2, 8, 3, 5, 3, 7, 6, 8])\n"
          ],
          "name": "stdout"
        }
      ]
    },
    {
      "cell_type": "code",
      "metadata": {
        "id": "hq0HcYLCIq1B",
        "colab": {
          "base_uri": "https://localhost:8080/",
          "height": 137
        },
        "outputId": "a6f4f44e-5dc1-4428-eb7b-13c1dbdc2a95"
      },
      "source": [
        "# Q4.4 Visualize the first 10 images of the first minibatch \n",
        "# returned by testDataLoader.\n",
        "\n",
        "images, label = next(iter(testDataLoader))\n",
        "images_example = images[:10]\n",
        "images_example = torchvision.utils.make_grid(images_example)\n",
        "images_example = images_example.numpy().transpose(1,2,0) \n",
        "plt.imshow(images_example)\n",
        "plt.show()"
      ],
      "execution_count": 8,
      "outputs": [
        {
          "output_type": "display_data",
          "data": {
            "image/png": "[encoded data removed]",
            "text/plain": [
              "<Figure size 432x288 with 1 Axes>"
            ]
          },
          "metadata": {
            "tags": [],
            "needs_background": "light"
          }
        }
      ]
    },
    {
      "cell_type": "markdown",
      "metadata": {
        "id": "YWC-g9OTOPAq"
      },
      "source": [
        "Now we are ready to define our linear model. Here is some boilerplate PyTorch code that implements the forward model for a single layer network for logistic regression (similar to the one discussed in class notes). "
      ]
    },
    {
      "cell_type": "code",
      "metadata": {
        "id": "qUI2KGrDJpRx"
      },
      "source": [
        "class LinearReg(torch.nn.Module):\n",
        "  def __init__(self):\n",
        "    super(LinearReg, self).__init__()\n",
        "    self.linear = torch.nn.Linear(28*28,10)\n",
        "\n",
        "  def forward(self, x):\n",
        "    x = x.view(-1,28*28)\n",
        "    transformed_x = self.linear(x)\n",
        "    return transformed_x\n",
        "\n",
        "net = LinearReg().cuda()\n",
        "Loss = torch.nn.CrossEntropyLoss()\n",
        "optimizer = torch.optim.SGD(net.parameters(), lr=0.01)\n",
        "\n"
      ],
      "execution_count": 9,
      "outputs": []
    },
    {
      "cell_type": "markdown",
      "metadata": {
        "id": "YfCQuKX7LAqV"
      },
      "source": [
        "Cool! Now we have set everything up. Let's try to train the network."
      ]
    },
    {
      "cell_type": "code",
      "metadata": {
        "id": "72TiXpC8LEMX",
        "colab": {
          "base_uri": "https://localhost:8080/"
        },
        "outputId": "a8bb8dee-dc7a-4e95-bb20-049e146dcf81"
      },
      "source": [
        "train_loss_history = []\n",
        "test_loss_history = []\n",
        "\n",
        "from torch.autograd import Variable\n",
        "# Q4.5 Write down a for-loop that trains this network for 20 epochs, \n",
        "# and print the train/test losses.\n",
        "# Save them in the variables above. If done correctly, you should be able to \n",
        "# execute the next code block.\n",
        "\n",
        "with torch.no_grad():\n",
        "     training_x=Variable(torch.unsqueeze(trainingdata.data, dim=1)).type(torch.FloatTensor)/255.\n",
        "training_y=trainingdata.targets\n",
        "\n",
        "with torch.no_grad():\n",
        "     test_x=Variable(torch.unsqueeze(testdata.data, dim=1)).type(torch.FloatTensor)/255.\n",
        "test_y=testdata.targets\n",
        "\n",
        "for epoch in range(20):\n",
        "    for step, (x, y) in enumerate(trainDataLoader):   \n",
        "        b_x = Variable(x)   \n",
        "        b_y = Variable(y)   \n",
        "        output = net(b_x.cuda())         \n",
        "        loss = Loss(output, b_y.cuda())   \n",
        "        optimizer.zero_grad()           \n",
        "        loss.backward()                 \n",
        "        optimizer.step()\n",
        "\n",
        "    #calculate and print train/test losses\n",
        "    training_output = net(training_x.cuda())\n",
        "    test_output = net(test_x.cuda())\n",
        "    training_loss = Loss(training_output,training_y.cuda())\n",
        "    test_loss = Loss(test_output,test_y.cuda())\n",
        "\n",
        "    train_loss_history.append(training_loss)\n",
        "    test_loss_history.append(test_loss)\n",
        "\n",
        "    print(\"epoch_\"+str(epoch+1)+\":\")\n",
        "    print(\"train loss:\"+str(training_loss.item()))\n",
        "    print(\"test loss:\"+str(test_loss.item()))"
      ],
      "execution_count": 10,
      "outputs": [
        {
          "output_type": "stream",
          "text": [
            "epoch_1:\n",
            "train loss:0.7209498882293701\n",
            "test loss:0.7389684319496155\n",
            "epoch_2:\n",
            "train loss:0.6269922256469727\n",
            "test loss:0.6484988927841187\n",
            "epoch_3:\n",
            "train loss:0.5824095010757446\n",
            "test loss:0.6058273315429688\n",
            "epoch_4:\n",
            "train loss:0.5562071204185486\n",
            "test loss:0.5812960863113403\n",
            "epoch_5:\n",
            "train loss:0.5402321219444275\n",
            "test loss:0.5673826932907104\n",
            "epoch_6:\n",
            "train loss:0.5223643183708191\n",
            "test loss:0.5487931370735168\n",
            "epoch_7:\n",
            "train loss:0.51003497838974\n",
            "test loss:0.5378562211990356\n",
            "epoch_8:\n",
            "train loss:0.5011770129203796\n",
            "test loss:0.530402660369873\n",
            "epoch_9:\n",
            "train loss:0.4928666353225708\n",
            "test loss:0.5224859714508057\n",
            "epoch_10:\n",
            "train loss:0.4871394634246826\n",
            "test loss:0.5179532170295715\n",
            "epoch_11:\n",
            "train loss:0.48119115829467773\n",
            "test loss:0.5122848749160767\n",
            "epoch_12:\n",
            "train loss:0.476009339094162\n",
            "test loss:0.5071613192558289\n",
            "epoch_13:\n",
            "train loss:0.47180718183517456\n",
            "test loss:0.5037179589271545\n",
            "epoch_14:\n",
            "train loss:0.4684552848339081\n",
            "test loss:0.5005063414573669\n",
            "epoch_15:\n",
            "train loss:0.4652370810508728\n",
            "test loss:0.4981291890144348\n",
            "epoch_16:\n",
            "train loss:0.46101588010787964\n",
            "test loss:0.4940638244152069\n",
            "epoch_17:\n",
            "train loss:0.4571298360824585\n",
            "test loss:0.49056515097618103\n",
            "epoch_18:\n",
            "train loss:0.45533955097198486\n",
            "test loss:0.4886627495288849\n",
            "epoch_19:\n",
            "train loss:0.45180997252464294\n",
            "test loss:0.485703706741333\n",
            "epoch_20:\n",
            "train loss:0.45166724920272827\n",
            "test loss:0.4864208400249481\n"
          ],
          "name": "stdout"
        }
      ]
    },
    {
      "cell_type": "code",
      "metadata": {
        "id": "7pY0PZU2NWWf",
        "colab": {
          "base_uri": "https://localhost:8080/",
          "height": 298
        },
        "outputId": "be22c7bc-b61a-4773-b75b-8cb9905102cb"
      },
      "source": [
        "plt.plot(range(20),train_loss_history,'-',linewidth=3,label='Train error')\n",
        "plt.plot(range(20),test_loss_history,'-',linewidth=3,label='Test error')\n",
        "plt.xlabel('epoch')\n",
        "plt.ylabel('loss')\n",
        "plt.grid(True)\n",
        "plt.legend()"
      ],
      "execution_count": 11,
      "outputs": [
        {
          "output_type": "execute_result",
          "data": {
            "text/plain": [
              "<matplotlib.legend.Legend at 0x7f521801bda0>"
            ]
          },
          "metadata": {
            "tags": []
          },
          "execution_count": 11
        },
        {
          "output_type": "display_data",
          "data": {
            "image/png": "[encoded data removed]",
            "text/plain": [
              "<Figure size 432x288 with 1 Axes>"
            ]
          },
          "metadata": {
            "tags": [],
            "needs_background": "light"
          }
        }
      ]
    },
    {
      "cell_type": "markdown",
      "metadata": {
        "id": "7e1AOrb7PCQ2"
      },
      "source": [
        "Neat! Now let's evaluate our model accuracy on the entire dataset. The predicted class label for a given input image can computed by looking at the output of the neural network model and computing the index corresponding to the maximum activation. Something like\n",
        "\n",
        "*predicted_output = net(images)*\n",
        "*_, predicted_labels = torch.max(predicted_output,1)*"
      ]
    },
    {
      "cell_type": "code",
      "metadata": {
        "id": "BpbhEoBGPDs6",
        "colab": {
          "base_uri": "https://localhost:8080/"
        },
        "outputId": "b9c469ed-9c4a-4ce4-bd5d-30a0d7132b8b"
      },
      "source": [
        "predicted_output = net(images.cuda())\n",
        "print(torch.max(predicted_output, 1))\n",
        "fit = Loss(predicted_output, labels.cuda())\n",
        "print(labels)"
      ],
      "execution_count": 12,
      "outputs": [
        {
          "output_type": "stream",
          "text": [
            "torch.return_types.max(\n",
            "values=tensor([ 6.2624,  8.8944, 12.1244, 10.9136,  4.1968,  8.5146,  5.7828,  5.1000,\n",
            "         2.3824,  6.6692,  5.4665,  4.4449,  4.7136,  7.1716,  7.9132,  7.9524,\n",
            "         4.5884,  5.2708,  5.6830,  9.7426,  4.6144,  5.6596,  9.6225,  6.2523,\n",
            "        10.9543,  3.6557,  7.4659,  6.6152,  7.8315,  4.9271, 10.3881,  5.1096,\n",
            "         4.9132,  6.3209,  6.6618,  4.9263,  7.5962,  4.1665,  8.4530, 10.3519,\n",
            "         8.6693, 11.9572,  4.4583,  8.6453,  8.2881,  3.6127,  6.3004,  8.1692,\n",
            "         3.9620,  6.7309,  6.9210,  3.5020,  2.6014,  6.5631,  4.3499,  6.8932,\n",
            "         8.3772,  6.1975,  7.3587,  4.7915,  8.2412,  7.6006,  7.9083,  4.5640],\n",
            "       device='cuda:0', grad_fn=<MaxBackward0>),\n",
            "indices=tensor([9, 2, 1, 1, 6, 1, 4, 6, 5, 7, 4, 5, 5, 3, 4, 1, 2, 6, 8, 0, 6, 7, 7, 7,\n",
            "        1, 2, 6, 0, 9, 6, 8, 8, 3, 3, 8, 0, 7, 5, 7, 9, 0, 1, 6, 9, 6, 7, 2, 1,\n",
            "        2, 6, 6, 2, 5, 6, 2, 2, 8, 4, 8, 0, 7, 7, 8, 5], device='cuda:0'))\n",
            "tensor([2, 7, 8, 6, 6, 6, 6, 6, 6, 6, 5, 0, 4, 9, 8, 9, 8, 1, 4, 1, 3, 6, 6, 9,\n",
            "        6, 5, 8, 1, 9, 3, 3, 8, 0, 5, 8, 4, 7, 5, 6, 5, 9, 7, 5, 6, 5, 0, 0, 8,\n",
            "        0, 3, 2, 4, 5, 7, 4, 0, 2, 8, 3, 5, 3, 7, 6, 8])\n"
          ],
          "name": "stdout"
        }
      ]
    },
    {
      "cell_type": "code",
      "metadata": {
        "id": "8lpCJphqiyKU",
        "colab": {
          "base_uri": "https://localhost:8080/"
        },
        "outputId": "a7f93a75-070c-442a-ca69-3497b022ec34"
      },
      "source": [
        "def evaluate(dataloader):\n",
        "  # Q4.6 Implement a function here that evaluates training and testing accuracy.\n",
        "  # Here, accuracy is measured by probability of successful classification.\n",
        "  images, labels = iter(dataloader).next()\n",
        "  predicted_output = net(images.cuda())\n",
        "  \n",
        "  y_pred_lst = torch.max(predicted_output, 1)[1].cpu().numpy().tolist()\n",
        "  label_lst = labels.cpu().numpy().tolist()\n",
        "\n",
        "  total_num = len(labels)\n",
        "  correct_num = 0\n",
        "\n",
        "  for i in range(len(y_pred_lst)):\n",
        "    if y_pred_lst[i]==label_lst[i]:\n",
        "      correct_num+=1\n",
        "  #probability of successful classification    \n",
        "  return correct_num/total_num\n",
        "\n",
        "\n",
        "#evaluate the accuracy on the whole training/test dataset\n",
        "trainDataLoader = torch.utils.data.DataLoader(trainingdata, batch_size=len(trainingdata), shuffle=False)\n",
        "testDataLoader = torch.utils.data.DataLoader(testdata, batch_size=len(testdata), shuffle=False)\n",
        "\n",
        "print('Train acc = %0.2f, test acc = %0.2f' % (evaluate(trainDataLoader), evaluate(testDataLoader)))"
      ],
      "execution_count": 13,
      "outputs": [
        {
          "output_type": "stream",
          "text": [
            "Train acc = 0.85, test acc = 0.83\n"
          ],
          "name": "stdout"
        }
      ]
    }
  ]
}